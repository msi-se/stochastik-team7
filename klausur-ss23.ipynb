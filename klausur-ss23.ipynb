{
 "cells": [
  {
   "cell_type": "code",
   "execution_count": null,
   "metadata": {},
   "outputs": [],
   "source": []
  },
  {
   "cell_type": "markdown",
   "metadata": {},
   "source": [
    "Dr. Wu ist der Chefgenetiker des Jurrassic Parks, eines Vergnügungsparks, dessen Hauptattraktion geklonte, genetisch verbesserte Dinosaurier sind. Der Jurassic Park möchte als weitere Attraktion ein Dino-Rennen anbieten, daher arbeitet Dr. Wu daran, Dinosaurier mit großer Geschwindigkeit (V) zu klonen, deren Hunger (F, [kg Fleisch pro Tag]) nicht überhand nimmt. Genetik ist in hohem Maße vomZufall beeinflusst, daher simuliert Dr. Wu am Computer geklonte Dinosauriern mit zufällig erzeugter Größe in cm (G) und Agressionslevel (A) in %. Dr. Wu hat am Computer eine große Grundgesamtheit geklonter Dinosaurier entwerfen lassen. Aus dieser Grundgesamtheit untersucht er eine Stichprobe von 10 Dinosauriern deren Eigenschaften in folgender Tabelle zusammengefasst sind.\n",
    "\n",
    "| Dino Nr.                   | 1   | 2   | 3   | 4   | 5   | 6   | 7   | 8   | 9   | 10  |\n",
    "|----------------------------|-----|-----|-----|-----|-----|-----|-----|-----|-----|-----|\n",
    "| Geschwindigkeit [km/h] (V) | 62  | 47  | 15  | 37  | 53  | 56  | 93  | 59  | 57  | 35  |\n",
    "| Fleischverbrauch [kg] (F)  | 12  | 11  | 8   | 8   | 9   | 12  | 14  | 9   | 27  | 11  |\n",
    "| Körpergröße [cm] (G)       | 302 | 308 | 238 | 203 | 243 | 308 | 328 | 297 | 315 | 211 |\n",
    "| Agressionslevel [%] (A)    | 37  | 55  | 55  | 42  | 50  | 50  | 55  | 42  | 55  | 51  |\n"
   ]
  },
  {
   "cell_type": "code",
   "execution_count": null,
   "metadata": {},
   "outputs": [],
   "source": [
    "# Daten für die Dinosaurier\n",
    "geschwindigkeit = [62, 47, 15, 37, 53, 56, 93, 59, 57, 35]\n",
    "fleischverbrauch = [12, 11, 8, 8, 9, 12, 14, 9, 27, 11]\n",
    "koerpergroesse = [302, 308, 238, 203, 243, 308, 328, 297, 315, 211]\n",
    "aggressionslevel = [37, 55, 55, 42, 50, 50, 55, 42, 55, 51]"
   ]
  },
  {
   "cell_type": "markdown",
   "metadata": {},
   "source": [
    "a) Berechnen Sie das arithmetisches Mittel der Stichprobe:"
   ]
  },
  {
   "cell_type": "code",
   "execution_count": 6,
   "metadata": {},
   "outputs": [
    {
     "name": "stdout",
     "output_type": "stream",
     "text": [
      "Mittel der Geschwindigkeit: 51.4 km/h\n",
      "Mittel des Fleischverbrauchs: 12.1 kg\n",
      "Mittel der Körpergröße: 275.3 cm\n",
      "Mittel des Aggressionslevels: 49.2 %\n"
     ]
    }
   ],
   "source": [
    "import statistics\n",
    "\n",
    "mittel_geschwindigkeit = statistics.mean(geschwindigkeit)\n",
    "mittel_fleischverbrauch = statistics.mean(fleischverbrauch)\n",
    "mittel_koerpergroesse = statistics.mean(koerpergroesse)\n",
    "mittel_aggressionslevel = statistics.mean(aggressionslevel)\n",
    "\n",
    "print(f\"Mittel der Geschwindigkeit: {mittel_geschwindigkeit} km/h\")\n",
    "print(f\"Mittel des Fleischverbrauchs: {mittel_fleischverbrauch} kg\")\n",
    "print(f\"Mittel der Körpergröße: {mittel_koerpergroesse} cm\")\n",
    "print(f\"Mittel des Aggressionslevels: {mittel_aggressionslevel} %\")"
   ]
  },
  {
   "cell_type": "markdown",
   "metadata": {},
   "source": [
    "b) Berechnen Sie den Median der Stichprobe:"
   ]
  },
  {
   "cell_type": "code",
   "execution_count": 7,
   "metadata": {},
   "outputs": [
    {
     "name": "stdout",
     "output_type": "stream",
     "text": [
      "Median der Geschwindigkeit: 54.5 km/h\n",
      "Median des Fleischverbrauchs: 11.0 kg\n",
      "Median der Körpergröße: 299.5 cm\n",
      "Median des Aggressionslevels: 50.5 %\n"
     ]
    }
   ],
   "source": [
    "median_geschwindigkeit = statistics.median(geschwindigkeit)\n",
    "median_fleischverbrauch = statistics.median(fleischverbrauch)\n",
    "median_koerpergroesse = statistics.median(koerpergroesse)\n",
    "median_aggressionslevel = statistics.median(aggressionslevel)\n",
    "\n",
    "print(f\"Median der Geschwindigkeit: {median_geschwindigkeit} km/h\")\n",
    "print(f\"Median des Fleischverbrauchs: {median_fleischverbrauch} kg\")\n",
    "print(f\"Median der Körpergröße: {median_koerpergroesse} cm\")\n",
    "print(f\"Median des Aggressionslevels: {median_aggressionslevel} %\")"
   ]
  },
  {
   "cell_type": "markdown",
   "metadata": {},
   "source": [
    "c) Vergleichen Sie das arithmetisches Mittel und den Median der Stichprobe. Was können Sie aus diesem Vergleich schlussfolgern?\n",
    "\n",
    "1. **Geschwindigkeit:**\n",
    "   - **Median: 54.5 km/h**\n",
    "   - **Mittel: 51.4 km/h**\n",
    "   - Der Median ist hier höher als das Mittel. Das deutet darauf hin, dass es einige langsamere Dinosaurier in der Stichprobe gibt, die das Mittel nach unten ziehen, während der Median weniger empfindlich auf solche Ausreißer reagiert. Die Verteilung könnte leicht linkssteil sein (positiv schief).\n",
    "\n",
    "2. **Fleischverbrauch:**\n",
    "   - **Median: 11.0 kg**\n",
    "   - **Mittel: 12.1 kg**\n",
    "   - Der Mittelwert ist höher als der Median, was auf einige wenige Dinosaurier mit sehr hohem Fleischverbrauch hindeutet, die das arithmetische Mittel nach oben ziehen. Auch hier könnte die Verteilung linkssteil sein.\n",
    "\n",
    "3. **Körpergröße:**\n",
    "   - **Median: 299.5 cm**\n",
    "   - **Mittel: 275.3 cm**\n",
    "   - Das arithmetische Mittel ist deutlich niedriger als der Median, was darauf hindeutet, dass es einige sehr kleine Dinosaurier in der Stichprobe gibt, die das Mittel stark beeinflussen. Die Verteilung ist vermutlich linkssteil, mit einigen kleineren Dinosauriern als Ausreißern.\n",
    "\n",
    "4. **Aggressionslevel:**\n",
    "   - **Median: 50.5 %**\n",
    "   - **Mittel: 49.2 %**\n",
    "   - Hier sind Median und Mittel relativ ähnlich, aber der Median ist etwas höher. Dies könnte auf eine leicht linkssteile Verteilung hinweisen, aber der Unterschied ist nicht so ausgeprägt wie bei den anderen Variablen."
   ]
  },
  {
   "cell_type": "markdown",
   "metadata": {},
   "source": [
    "d) Berechnen Sie das 75%-Quantil der Stichprobe\n",
    "\n",
    "e) Geben Sie an, wie Sie das 75%-Quantil mit Ihrem verwendeten Tool berechnen."
   ]
  },
  {
   "cell_type": "code",
   "execution_count": 8,
   "metadata": {},
   "outputs": [
    {
     "name": "stdout",
     "output_type": "stream",
     "text": [
      "75%-Quantil der Geschwindigkeit: 59.75 km/h\n",
      "75%-Quantil des Fleischverbrauchs: 12.5 kg\n",
      "75%-Quantil der Körpergröße: 309.75 cm\n",
      "75%-Quantil des Aggressionslevels: 55.0 %\n"
     ]
    }
   ],
   "source": [
    "quantil75_geschwindigkeit = statistics.quantiles(geschwindigkeit, n=4)[2]  # Der Index 2 entspricht dem 75%-Quantil\n",
    "quantil75_fleischverbrauch = statistics.quantiles(fleischverbrauch, n=4)[2]\n",
    "quantil75_koerpergroesse = statistics.quantiles(koerpergroesse, n=4)[2]\n",
    "quantil75_aggressionslevel = statistics.quantiles(aggressionslevel, n=4)[2]\n",
    "\n",
    "print(f\"75%-Quantil der Geschwindigkeit: {quantil75_geschwindigkeit} km/h\")\n",
    "print(f\"75%-Quantil des Fleischverbrauchs: {quantil75_fleischverbrauch} kg\")\n",
    "print(f\"75%-Quantil der Körpergröße: {quantil75_koerpergroesse} cm\")\n",
    "print(f\"75%-Quantil des Aggressionslevels: {quantil75_aggressionslevel} %\")"
   ]
  },
  {
   "cell_type": "markdown",
   "metadata": {},
   "source": [
    "f) Anna und Ben helfen Dr. Wu bei den Auswertungen. Anna berechnet die empirische Standardabweichung zu sv = 20.484, Ben berechnet sv = 19.433. Beide haben Python bzw. MATLAB verwendet und die Zahlen korrekt eingegeben. Welche Zahl ist die richtige? Woran kann es liegen, dass die beiden Zahlen unterschiedlich sind?\n",
    "\n",
    "### `statistics.stdev()` – Stichprobenstandardabweichung\n",
    "- **Teiler**: \\( n-1 \\) (Bessel's Korrektur)\n",
    "- **Verwendung**: Für Stichprobendaten aus einer größeren Population\n",
    "- **Zweck**: Korrigiert Verzerrung in der Schätzung der Populationsvarianz\n",
    "\n",
    "### `statistics.pstdev()` – Populationsstandardabweichung\n",
    "- **Teiler**: \\( n \\)\n",
    "- **Verwendung**: Für Daten, die die gesamte Population repräsentieren\n",
    "- **Zweck**: Direkte Messung der Varianz ohne Korrekturbedarf"
   ]
  },
  {
   "cell_type": "code",
   "execution_count": 11,
   "metadata": {},
   "outputs": [
    {
     "name": "stdout",
     "output_type": "stream",
     "text": [
      "Stichprobenstandardabweichung der Geschwindigkeit: 20.484140206510986\n",
      "Populationsstandardabweichung der Geschwindigkeit: 19.432961688841978\n"
     ]
    }
   ],
   "source": [
    "stdev_abweichung_geschwindigkeit = statistics.stdev(geschwindigkeit)\n",
    "pstdev_abweichung_geschwindigkeit = statistics.pstdev(geschwindigkeit)\n",
    "\n",
    "print(f\"Stichprobenstandardabweichung der Geschwindigkeit: {stdev_abweichung_geschwindigkeit}\")\n",
    "print(f\"Populationsstandardabweichung der Geschwindigkeit: {pstdev_abweichung_geschwindigkeit}\")"
   ]
  },
  {
   "cell_type": "markdown",
   "metadata": {},
   "source": [
    "g) Anna erhält von Dr. Wu den Auftrag, das 95% Konfidenzintervall für den wahren Erwartungswert der Geschwindigkeiten der Dinosaurier zu berechnen. Umkreisen Sie den richtigen Ansatz und begründen Sie Ihre Meinung."
   ]
  },
  {
   "cell_type": "code",
   "execution_count": null,
   "metadata": {},
   "outputs": [],
   "source": []
  },
  {
   "cell_type": "markdown",
   "metadata": {},
   "source": [
    "h) Mit Hilfedeskorrekten Ansatzes berechnet Anna das 95%-Konfidenzintervall zu [36.747;66.053]. Was sagt dieses Intervall aus? Wenn Sie an Dr. Wu’s Stelle wären, wären Sie mit dem Konfidenzintervall zufrieden, und würden daraus wichtige Erkenntnisse für Ihre weiteren Versuche ableiten?\n",
    "\n",
    "A: Das 95%-Konfidenzintervall gibt an, dass der wahre Mittelwert der Geschwindigkeit der Dinosaurierpopulation mit 95% Wahrscheinlichkeit zwischen 36.747 km/h und 66.053 km/h liegt. Es zeigt eine hohe Variabilität in der Geschwindigkeit der Dinosaurier an. Als Dr. Wu könnte ich das Intervall zu breit für die Planung eines wettbewerbsfähigen Dino-Rennens finden und würde möglicherweise engere Geschwindigkeitsbereiche anstreben."
   ]
  },
  {
   "cell_type": "markdown",
   "metadata": {},
   "source": [
    "i) Dr. Wu möchte die Parameter der zufällig erzeugten Dinosaurier vergleichen. Hierfür normalisiert er alle Werte und dividiert alle erhobenen Ausprägungen eines Merkmals durch den jeweiligen Mittelwert. Z.B. werden alle Geschwindigkeitswerte durch die mittlere Geschwindigkeit ¯ v dividiert. Dies führt zur in Abbildung 1 gezeigte Grafik. Die Bezeichnungen auf der X-Achse entsprechen den Bezeichnungen in der Tabelle.\n",
    "\n",
    "    Wie heißt die in Abbildung 1 verwendete Darstellungsform? Welche Kennwerte kann man der Grafik entnehmen?\n",
    "\n",
    "    Aus einem Boxplot kann man folgende statistische Kennwerte entnehmen:\n",
    "\n",
    "    1. **Minimum**: Die untere Grenze des Boxplots, exklusive Ausreißer.\n",
    "    2. **Erstes Quartil (Q1 / 25% Quantil)**: Die untere Kante der Box, entspricht dem Wert, unter dem 25% der Daten liegen.\n",
    "    3. **Median (Zweites Quartil / Q2 / 50% Quantil)**: Die Linie in der Mitte der Box, zeigt den mittleren Wert der Daten an.\n",
    "    4. **Drittes Quartil (Q3 / 75% Quantil)**: Die obere Kante der Box, unter dem 75% der Daten liegen.\n",
    "    5. **Maximum**: Die obere Grenze des Boxplots, exklusive Ausreißer.\n",
    "    6. **Interquartilsabstand (IQR)**: Die Breite der Box, Differenz zwischen dem dritten und ersten Quartil, misst die Streubreite der mittleren 50% der Daten.\n",
    "    7. **Ausreißer**: Punkte außerhalb der \"Whisker\" (Antennen), die eine bestimmte Distanz (üblicherweise das 1,5-fache des IQR) über dem dritten oder unter dem ersten Quartil liegen.\n",
    "    8. **\"Whiskers\" (Antennen)**: Die Linien, die von der Box aus nach oben und unten verlaufen, enden in der Regel am höchsten bzw. niedrigsten Wert innerhalb des 1,5-fachen IQRs.\n",
    "\n",
    "    Der Boxplot bietet eine visuelle Darstellung der Verteilung der Daten und ermöglicht es, die Zentralität, Streuung und Schiefe der Daten schnell zu erfassen.\n",
    "\n"
   ]
  },
  {
   "cell_type": "code",
   "execution_count": 13,
   "metadata": {},
   "outputs": [
    {
     "data": {
      "image/png": "[encoded data removed]",
      "text/plain": [
       "<Figure size 1200x600 with 1 Axes>"
      ]
     },
     "metadata": {},
     "output_type": "display_data"
    }
   ],
   "source": [
    "import matplotlib.pyplot as plt\n",
    "import statistics\n",
    "\n",
    "# Daten für die Dinosaurier\n",
    "daten = {\n",
    "    'geschwindigkeit': geschwindigkeit,\n",
    "    'fleischverbrauch': fleischverbrauch,\n",
    "    'koerpergroesse': koerpergroesse,\n",
    "    'aggressionslevel': aggressionslevel\n",
    "}\n",
    "\n",
    "mittelwerte = {\n",
    "    'geschwindigkeit': mittel_geschwindigkeit,\n",
    "    'fleischverbrauch': mittel_fleischverbrauch,\n",
    "    'koerpergroesse': mittel_koerpergroesse,\n",
    "    'aggressionslevel': mittel_aggressionslevel\n",
    "}\n",
    "\n",
    "# Normalisierung der Daten\n",
    "normalisierte_daten = {merkmal: [wert/mittelwerte[merkmal] for wert in werte] for merkmal, werte in daten.items()}\n",
    "\n",
    "# Umwandlung der normalisierten Daten in eine Liste von Listen für die Boxplots\n",
    "normalisierte_werte = list(normalisierte_daten.values())\n",
    "\n",
    "# Erstellen der Boxplots\n",
    "plt.figure(figsize=(12, 6))\n",
    "plt.boxplot(normalisierte_werte, labels=normalisierte_daten.keys())\n",
    "plt.title('Boxplot der normalisierten Merkmale der Dinosaurier')\n",
    "plt.xlabel('Merkmal')\n",
    "plt.ylabel('Vielfache des arithmetischen Mittels')\n",
    "plt.grid(True)\n",
    "plt.show()\n"
   ]
  }
 ],
 "metadata": {
  "kernelspec": {
   "display_name": "Python 3",
   "language": "python",
   "name": "python3"
  },
  "language_info": {
   "codemirror_mode": {
    "name": "ipython",
    "version": 3
   },
   "file_extension": ".py",
   "mimetype": "text/x-python",
   "name": "python",
   "nbconvert_exporter": "python",
   "pygments_lexer": "ipython3",
   "version": "3.11.9"
  }
 },
 "nbformat": 4,
 "nbformat_minor": 2
}
