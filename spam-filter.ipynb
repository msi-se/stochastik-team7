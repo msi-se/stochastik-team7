{
 "cells": [
  {
   "cell_type": "markdown",
   "metadata": {
    "slideshow": {
     "slide_type": "slide"
    }
   },
   "source": [
    "# Spam-Filterung mit Naive-Bayes-Klassifikator\n",
    "Team 7: Jannik Weisser & Leon Jerke"
   ]
  },
  {
   "cell_type": "markdown",
   "metadata": {
    "slideshow": {
     "slide_type": "slide"
    }
   },
   "source": [
    "## Beschreibung des Problems\n",
    "Im digitalen Zeitalter ist die Flut an E-Mails enorm, und nicht alle davon sind erwünscht oder sogar sicher. Spam-E-Mails, die oft unerwünschte Werbung oder sogar schädliche Inhalte enthalten, sind ein signifikantes Problem für Nutzer und E-Mail-Dienstanbieter. Um diese unerwünschten E-Mails effektiv zu filtern und die Nutzererfahrung zu verbessern, setzen viele E-Mail-Dienste auf maschinelles Lernen, insbesondere auf Naive-Bayes-Klassifikatoren. Diese Klassifikatoren nutzen bedingte Wahrscheinlichkeiten, um zu bestimmen, ob eine eingehende E-Mail Spam ist oder nicht, basierend auf dem Vorkommen bestimmter Schlüsselwörter in der Nachricht."
   ]
  },
  {
   "cell_type": "markdown",
   "metadata": {
    "slideshow": {
     "slide_type": "slide"
    }
   },
   "source": [
    "## Formalisierung des Problems\n",
    "Der Naive-Bayes-Klassifikator basiert auf dem Bayes’schen Theorem, welches bedingte Wahrscheinlichkeiten verwendet, um die Wahrscheinlichkeit einer Hypothese (hier: eine E-Mail ist Spam) auf Basis von vorliegenden Beweisen (hier: Wörter in der E-Mail) zu aktualisieren.\n",
    "\n",
    "##### Gegebene Wahrscheinlichkeiten:\n",
    "1. **Prior-Wahrscheinlichkeit ${P(Spam)}$**: Die Wahrscheinlichkeit, dass eine beliebige eingehende E-Mail Spam ist, bevor der Inhalt betrachtet wird.\n",
    "2. **Wahrscheinlichkeiten für das Auftreten bestimmter Wörter in Spam- und Nicht-Spam-E-Mails**:\n",
    "   \n",
    "   ${P(Wort | Spam)}$: Wahrscheinlichkeit, dass ein bestimmtes Wort in einer Spam-E-Mail erscheint.\n",
    "   \n",
    "   ${P(Wort | \\neg Spam)}$: Wahrscheinlichkeit, dass dasselbe Wort in einer Nicht-Spam-E-Mail erscheint."
   ]
  },
  {
   "cell_type": "markdown",
   "metadata": {
    "slideshow": {
     "slide_type": "slide"
    }
   },
   "source": [
    "## Berechnung nach Bayes’schem Theorem:\n",
    "Das Bayes’sche Theorem wird genutzt, um die Posterior-Wahrscheinlichkeit $P(Spam | Wörter)$ zu berechnen, die die Wahrscheinlichkeit angibt, dass eine E-Mail Spam ist, gegeben die Wörter, die sie enthält:\n",
    "\n",
    "$P(Spam | Wörter) = \\frac{P(Wörter | Spam) \\times P(Spam)}{P(Wörter)}$\n",
    "\n",
    "Hierbei ist $P(Wörter | Spam)$ das Produkt der Wahrscheinlichkeiten jedes Wortes, gegeben dass die E-Mail Spam ist, unter der Annahme der Unabhängigkeit der Wörter (daher \"naive\").\n"
   ]
  },
  {
   "cell_type": "markdown",
   "metadata": {
    "slideshow": {
     "slide_type": "slide"
    }
   },
   "source": [
    "### Marginal Likelihood $P(Wörter)$:\n",
    "Die Gesamtwahrscheinlichkeit $P(Wörter)$, dass die Wörter unabhängig von der Klassifikation auftreten, wird wie folgt berechnet:\n",
    "\n",
    "$P(Wörter) = P(Wörter | Spam) \\times P(Spam) + P(Wörter | \\neg Spam) \\times P(\\neg Spam)$\n",
    "\n",
    "Diese Berechnungen ermöglichen es, jede eingehende E-Mail auf der Basis ihres Inhalts effektiv zu klassifizieren und tragen dazu bei, das Spam-Problem zu minimieren.\n"
   ]
  },
  {
   "cell_type": "markdown",
   "metadata": {
    "slideshow": {
     "slide_type": "slide"
    }
   },
   "source": [
    "## Beispiel 1:\n",
    "\n",
    "### Gegebene Daten (fiktiv):\n",
    "- **Prior-Wahrscheinlichkeit, dass eine zufällige E-Mail Spam ist $P(Spam)$**: 20%\n",
    "- **Prior-Wahrscheinlichkeit, dass eine zufällige E-Mail kein Spam ist $P(\\neg Spam)$**: 80%\n",
    "\n",
    "Wir nehmen an, dass bestimmte Schlüsselwörter wie \"kostenlos\", \"Gewinn\" und \"Sonderangebot\" Indikatoren für Spam sein könnten. Wir verwenden folgende fiktive Wahrscheinlichkeiten:\n",
    "\n",
    "- **Wahrscheinlichkeit des Wortes \"kostenlos\" in Spam-E-Mails $P(kostenlos | Spam)$**: 30%\n",
    "- **Wahrscheinlichkeit des Wortes \"kostenlos\" in Nicht-Spam-E-Mails $P(kostenlos | \\neg Spam)$**: 5%\n",
    "\n",
    "### Ziel:\n",
    "Berechnung der Wahrscheinlichkeit, dass eine E-Mail Spam ist, gegeben das Wort \"kostenlos\" erscheint."
   ]
  },
  {
   "cell_type": "markdown",
   "metadata": {
    "slideshow": {
     "slide_type": "subslide"
    }
   },
   "source": [
    "### Formeln:\n",
    "1. **Bayessches Theorem**:\n",
    "   \n",
    "   $P(Spam | kostenlos) = \\frac{P(kostenlos | Spam) \\times P(Spam)}{P(kostenlos)}$\n",
    "\n",
    "2. **Marginal Likelihood $P(kostenlos)$**:\n",
    "   \n",
    "   $P(kostenlos) = P(kostenlos | Spam) \\times P(Spam) + P(kostenlos | \\neg Spam) \\times P(\\neg Spam)$\n",
    "\n"
   ]
  },
  {
   "cell_type": "markdown",
   "metadata": {
    "slideshow": {
     "slide_type": "subslide"
    }
   },
   "source": [
    "### Berechnungen:\n",
    "1. Zuerst berechnen wir $P(kostenlos)$:\n",
    "   \n",
    "   $P(kostenlos) = 0.3 \\times 0.2 + 0.05 \\times 0.8 = 0.1$\n",
    "\n",
    "2. Dann nutzen wir das Bayessche Theorem, um $P(Spam | kostenlos)$ zu berechnen:\n",
    "   \n",
    "   $P(Spam | kostenlos) = \\frac{0.3 \\times 0.2}{0.1} = 0.6$\n",
    "\n",
    "Basierend auf den Berechnungen haben wir die folgenden Ergebnisse:\n",
    "\n",
    "- Die **Gesamtwahrscheinlichkeit, dass das Wort \"kostenlos\" in einer E-Mail erscheint** ($P(kostenlos)$), beträgt 10%.\n",
    "- Die **Wahrscheinlichkeit, dass eine E-Mail Spam ist, gegeben dass das Wort \"kostenlos\" erscheint** ($P(Spam | kostenlos)$), beträgt 60%."
   ]
  },
  {
   "cell_type": "markdown",
   "metadata": {
    "slideshow": {
     "slide_type": "slide"
    }
   },
   "source": [
    "## Beispiel 2:\n",
    "\n",
    "Gegeben sind die folgenden Emails, die bereits nach Spam oder kein Spam klassifiziert sind:\n",
    "\n",
    "| Nr. | Email                 | Spam / !Spam |\n",
    "|-----|-----------------------|--------------|\n",
    "| 1   | send us your password | Spam         |\n",
    "| 2   | send us your review   | kein Spam    |\n",
    "| 3   | review your password  | kein Spam    |\n",
    "| 4   | review us             | Spam         |\n",
    "| 5   | send your password    | Spam         |\n",
    "| 6   | send us your account  | Spam         |\n",
    "\n",
    "Es soll nun basierend auf diesen Daten, die Wahrscheinlichkeit berechnet werden, dass eine Email mit den Worten \"Change your password\" Spam ist oder nicht."
   ]
  },
  {
   "cell_type": "markdown",
   "metadata": {
    "slideshow": {
     "slide_type": "subslide"
    }
   },
   "source": [
    "### Berechnung:\n",
    "\n",
    "- **Prior-Wahrscheinlichkeit, dass eine zufällige E-Mail Spam ist $P(Spam)$**:$\\frac{4}{6}$\n",
    "- **Prior-Wahrscheinlichkeit, dass eine zufällige E-Mail kein Spam ist $P(\\neg Spam)$**: $\\frac{2}{6}$\n",
    "  \n",
    "Bestimmen der Wortfrequenz:\n",
    "\n",
    "| Nr. | Wort     | Wortfrequenz in Spam | Wortfrequenz in $\\neg$ Spam |\n",
    "|-----|----------|-----------------------|----------------------|\n",
    "| 1   | password | 2/4                   | 1/2                  |\n",
    "| 2   | review   | 1/4                   | 2/2                  |\n",
    "| 3   | send     | 3/4                   | 1/2                  |\n",
    "| 4   | us       | 3/4                   | 1/2                  |\n",
    "| 5   | your     | 3/4                   | 2/2                  |\n",
    "| 6   | account  | 1/4                   | 0/2                  |\n"
   ]
  },
  {
   "cell_type": "markdown",
   "metadata": {
    "slideshow": {
     "slide_type": "subslide"
    }
   },
   "source": [
    "#### Laplace-Smoothing:\n",
    "Es sollte eine Glättung vorgenommen werden, um das Szenario zu vermeiden, dass ein Wort in den Spam-Trainingsbeispielen nicht vorkommt, wohl aber in den $\\neg Spam$-Trainingsbeispielen oder umgekehrt. Hierfür wird einfach zu jeder Wortanzahl +1 hinzugefügt und zum Nenner wird +2 hinzugefügt.\n",
    "\n",
    "| Nr. | Wort     | Wortfrequenz in Spam | Wortfrequenz in $\\neg$ Spam |\n",
    "|-----|----------|-----------------------|----------------------|\n",
    "| 1   | password | 3/6                   | 2/4                  |\n",
    "| 2   | review   | 2/6                   | 3/4                  |\n",
    "| 3   | send     | 4/6                   | 2/4                  |\n",
    "| 4   | us       | 4/6                   | 2/4                  |\n",
    "| 5   | your     | 4/6                   | 3/4                  |\n",
    "| 6   | account  | 2/6                   | 1/4                  |"
   ]
  },
  {
   "cell_type": "markdown",
   "metadata": {
    "slideshow": {
     "slide_type": "subslide"
    }
   },
   "source": [
    "Als nächstes berechnen wir die Wahrscheinlichkeit dafür, dass \"Change your password\" in Spam Mails und die Wahrscheinlichkeit dass es in Nicht-Spam Mails vorkommt.\n",
    "Da \"Change\" nicht in unserem Vokabular vorkommt, kann es einfach weggelassen werden und wir betrachten nur \"your password\".\n",
    "\n",
    "- **Spam:**\n",
    "\n",
    "    $P(your | Spam) = \\frac{4}{6}$\n",
    "\n",
    "    $P(password | Spam) = \\frac{3}{6}$\n",
    "\n",
    "    $P(your \\ password | Spam) = P(your | Spam) * P(password | Spam) = \\frac{4}{6} * \\frac{3}{6} = \\frac{1}{3}$\n",
    "\n",
    "- **Nicht Spam:**\n",
    "\n",
    "    $P(your | \\neg Spam) = \\frac{3}{4}$\n",
    "\n",
    "    $P(password | \\neg Spam) = \\frac{2}{4}$\n",
    "\n",
    "    $P(your \\ password | \\neg Spam) = P(your | \\neg Spam) * P(password | \\neg Spam) = \\frac{3}{4} * \\frac{2}{4} = \\frac{3}{8}$\n",
    "\n",
    "\n"
   ]
  },
  {
   "cell_type": "markdown",
   "metadata": {
    "slideshow": {
     "slide_type": "subslide"
    }
   },
   "source": [
    "**Berechnen der Gesamtwahrscheinlichkeit:**\n",
    "\n",
    "1. Marginal Likelyhood:\n",
    "   \n",
    "    $P(your \\ password) = P(your \\ password | Spam) * P(Spam) +  P(your \\ password | \\neg Spam) * P(\\neg Spam)= \\frac{1}{3} * \\frac{4}{6} + \\frac{3}{8} * \\frac{2}{6} = \\frac{2}{9} + \\frac{1}{8} \\approx 0.347$\n",
    "\n",
    "2. Bayessches Theorem:\n",
    "   \n",
    "   $P(Spam | your \\ password) = \\frac{P(your \\ password | Spam) * P(Spam)}{P(your \\ password)} = \\frac{\\frac{1}{3} * \\frac{4}{6}}{0.347} = 0.64$\n",
    "\n",
    "   $P(\\neg Spam | your \\ password) = \\frac{P(your \\ password | \\neg Spam) * P(\\neg Spam)}{P(your \\ password)} = \\frac{\\frac{3}{8} * \\frac{2}{4}}{0.347} = 0.54$"
   ]
  },
  {
   "cell_type": "markdown",
   "metadata": {
    "slideshow": {
     "slide_type": "subslide"
    }
   },
   "source": [
    "Basierend auf den Berechnungen haben wir die folgenden Ergebnisse:\n",
    "\n",
    "- Die **Gesamtwahrscheinlichkeit, dass die Wörter \"your password\" in einer E-Mail erscheinen** ($P(your \\ password)$), beträgt 34,7%.\n",
    "- Die **Wahrscheinlichkeit, dass eine E-Mail Spam ist, gegeben dass die Wörter \"your password\" erscheinen** ($P(Spam | your \\ password)$), beträgt 64%."
   ]
  }
 ],
 "metadata": {
  "language_info": {
   "name": "python"
  }
 },
 "nbformat": 4,
 "nbformat_minor": 2
}
